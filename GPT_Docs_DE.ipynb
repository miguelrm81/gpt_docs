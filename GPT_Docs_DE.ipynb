{
 "cells": [
  {
   "cell_type": "markdown",
   "metadata": {},
   "source": [
    "# Aplicación de Consultas de documentos mediante GPT\n",
    "\n",
    "## Descripción\n",
    "El proyecto consiste en desarrollar una aplicación en Python que permita cargar un documento como input y realizar consultas específicas sobre dicho documento utilizando un [agente de Langchain](https://github.com/langchain-ai/langchain/blob/master/cookbook/analyze_document.ipynb) y OpenAI. Se espera que la aplicación tenga las siguientes características:\n",
    "\n",
    "- Un template de frontend que permita la interacción del usuario para cargar el documento y realizar preguntas. También tiene que estar disponible mediante un endpoint, donde se le pueda hacer una petición con un documento y una pregunta, y le devuelva una respuesta.\n",
    "- Implementación de conexiones y flujos de información para realizar llamadas a las APIs de Langchain y OpenAI.\n",
    "- Utilización de una base de datos desplegada en AWS para almacenar las preguntas realizadas y sus respectivas respuestas.\n",
    "- Creación de un repositorio en DockerHub con la imagen de la aplicación para facilitar su despliegue.\n",
    "\n",
    "<p align=\"center\">\n",
    "<img src=\"img/arquitectura.png\">\n",
    "</p>\n",
    "\n",
    "## Entregables \n",
    "El repositorio de Github:\n",
    "\n",
    "1. Código fuente y scrips necesarios de la aplicación en Python.\n",
    "2. Tests realizados a la app.\n",
    "2. Scripts o archivos necesarios para desplegar la base de datos en AWS.\n",
    "3. Dockerfile utilizado para construir la imagen de la aplicación y el repositorio en DockerHub con dicha imagen.\n",
    "4. Documentación necesaria.\n",
    "\n",
    "\n",
    "## Fecha de Entrega\n",
    "\n",
    "La fecha límite de entrega para el proyecto es **martes 19 a las 9.00**.\n",
    "Estaréis divididos en los 4 grupos utilizados para el taller de marketing y cada grupo presentará el proyecto junto con una demo de máximo 10 minutos en total."
   ]
  },
  {
   "cell_type": "code",
   "execution_count": null,
   "metadata": {},
   "outputs": [],
   "source": [
    "# Recomendación de versiones de las librerías para que funcione correctamente\n",
    "# !pip install langchain==0.0.316\n",
    "# !pip install openai==0.28.1"
   ]
  },
  {
   "cell_type": "code",
   "execution_count": 3,
   "metadata": {},
   "outputs": [
    {
     "name": "stdout",
     "output_type": "stream",
     "text": [
      "Este script de Python es una herramienta automatizada que realiza pruebas en un API local. Imagina que el API es como una especie de servidor que puede recibir diferentes tipos de solicitudes y devolver respuestas. El script se encarga de hacer tres pruebas diferentes en este API.\n",
      "\n",
      "La primera prueba consiste en enviar datos al API a través de un endpoint llamado \"ingest\". Estos datos son una lista de listas, donde cada lista representa una fila de información. Después de enviar los datos, el script verifica si el API responde con un código de estado 200, lo cual significa que la solicitud fue exitosa. También verifica si el API devuelve un mensaje que dice \"Datos ingresados correctamente\", lo cual confirma que los datos se ingresaron de manera correcta.\n",
      "\n",
      "La segunda prueba se enfoca en el endpoint de \"predict\". Aquí, el script envía al API una lista de valores numéricos. Luego, verifica si el API responde con un código de estado 200 y si la respuesta contiene la clave 'prediction'. Esto indica que el API ha realizado una predicción basada en los datos proporcionados.\n",
      "\n",
      "La tercera prueba se realiza en el endpoint de \"retrain\". En esta prueba, el script envía una solicitud al API para que vuelva a entrenar el modelo. No se envía ningún dato en esta ocasión, solo se solicita al API que actualice su modelo. Después de enviar la solicitud, el script verifica si el API responde con un código de estado 200 y si el mensaje devuelto es \"Modelo reentrenado correctamente\". Esto confirma que el modelo del API se ha actualizado con éxito.\n",
      "\n",
      "En resumen, este script de Python es una herramienta que realiza pruebas automatizadas en un API local para asegurarse de que los endpoints de \"ingest\", \"predict\" y \"retrain\" funcionen correctamente. Es una forma eficiente de verificar que el API esté recibiendo datos correctamente, realizando predicciones y actualizando su modelo de manera adecuada.\n"
     ]
    }
   ],
   "source": [
    "from langchain.chains import AnalyzeDocumentChain\n",
    "from langchain.chat_models import ChatOpenAI\n",
    "from langchain.chains.question_answering import load_qa_chain\n",
    "\n",
    "llm = ChatOpenAI(model=\"gpt-3.5-turbo\", openai_api_key=\"\")\n",
    "\n",
    "qa_chain = load_qa_chain(llm, chain_type=\"map_reduce\")\n",
    "\n",
    "qa_document_chain = AnalyzeDocumentChain(combine_docs_chain=qa_chain)\n",
    "\n",
    "with open(\"demo/test_api.py\") as f:\n",
    "    file = f.read()\n",
    "\n",
    "response = qa_document_chain.run(\n",
    "    input_document=file,\n",
    "    question=\"What is this python script about? Explain it in a didactic way and in spanish\",\n",
    ")\n",
    "\n",
    "print(response)"
   ]
  },
  {
   "cell_type": "code",
   "execution_count": null,
   "metadata": {},
   "outputs": [],
   "source": []
  }
 ],
 "metadata": {
  "kernelspec": {
   "display_name": "Python 3",
   "language": "python",
   "name": "python3"
  },
  "language_info": {
   "codemirror_mode": {
    "name": "ipython",
    "version": 3
   },
   "file_extension": ".py",
   "mimetype": "text/x-python",
   "name": "python",
   "nbconvert_exporter": "python",
   "pygments_lexer": "ipython3",
   "version": "3.11.4"
  }
 },
 "nbformat": 4,
 "nbformat_minor": 2
}
